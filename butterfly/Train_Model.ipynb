{
 "cells": [
  {
   "cell_type": "code",
   "execution_count": 43,
   "metadata": {},
   "outputs": [],
   "source": [
    "import numpy as np\n",
    "import tensorflow as tf\n",
    "import matplotlib.pyplot as plt"
   ]
  },
  {
   "cell_type": "code",
   "execution_count": 44,
   "metadata": {},
   "outputs": [],
   "source": [
    "# Now unloading the tfrecords formatted files\n",
    "def preprocess(tfrecord):\n",
    "    \n",
    "    # Setting up the landing pad of upcoming read protobufs\n",
    "    feature_descriptions = {\n",
    "        \"image\": tf.io.FixedLenFeature([], tf.string, default_value=\"\"),\n",
    "        \"label\": tf.io.FixedLenFeature([], tf.int64, default_value=-1)\n",
    "    }\n",
    "    \n",
    "    # Parsing a single example protobuf from the file\n",
    "    example = tf.io.parse_single_example(tfrecord, feature_descriptions)\n",
    "    \n",
    "    # Getting the image portion of the protobuf\n",
    "    image = tf.io.parse_tensor(example[\"image\"], out_type=tf.float32)\n",
    "    \n",
    "    # Reshaping the image\n",
    "    image = tf.reshape(image, shape=[224, 224, 3])\n",
    "    \n",
    "    # Returning the image and the label portion of the protobuf. The label portion is already saved as a int_64\n",
    "    return image, example[\"label\"]\n",
    "\n",
    "# Expects a list of tfrecord file names and maps the above function to them while performing other prep and returning\n",
    "# a tensorflow dataset\n",
    "def load_tfrecord_dataset(filepaths, n_read_threads=5, shuffle_buffer_size=None, n_parse_threads=5, batch_size=32, cache=True):\n",
    "    # When a TFRecordDataset is read, it is a dataset that is still unparsed and in it's TFRecord form, just collected\n",
    "    dataset = tf.data.TFRecordDataset(filepaths,\n",
    "                                      num_parallel_reads=n_read_threads)\n",
    "    \n",
    "    # Caching the files from each of the filepaths\n",
    "    if cache:\n",
    "        dataset = dataset.cache()\n",
    "        \n",
    "    # Loading the shuffle buffer size\n",
    "    if shuffle_buffer_size:\n",
    "        dataset = dataset.shuffle(shuffle_buffer_size)\n",
    "    \n",
    "    # Using the preprocess function to map(parse) the unparsed data into the instance (image, label)\n",
    "    dataset = dataset.map(preprocess, num_parallel_calls=n_parse_threads)\n",
    "    dataset = dataset.batch(batch_size)\n",
    "    \n",
    "    # Prefetch for faster processing one batch ahead\n",
    "    return dataset.prefetch(1)\n",
    "\n",
    "def get_filepaths(filename):\n",
    "    datasetFile = open(filename, \"r\")\n",
    "    fileList = datasetFile.read().splitlines()\n",
    "    return fileList"
   ]
  },
  {
   "cell_type": "code",
   "execution_count": 45,
   "metadata": {},
   "outputs": [],
   "source": [
    "# Loading the data from the tfrecords\n",
    "train_files = get_filepaths(\"train_filepaths.txt\")\n",
    "valid_files = get_filepaths(\"valid_filepaths.txt\")\n",
    "test_files = get_filepaths(\"test_filepaths.txt\")\n",
    "\n",
    "train_dataset = load_tfrecord_dataset(train_files)\n",
    "valid_dataset = load_tfrecord_dataset(valid_files)\n",
    "test_dataset = load_tfrecord_dataset(test_files)"
   ]
  },
  {
   "cell_type": "code",
   "execution_count": 46,
   "metadata": {},
   "outputs": [
    {
     "name": "stderr",
     "output_type": "stream",
     "text": [
      "Clipping input data to the valid range for imshow with RGB data ([0..1] for floats or [0..255] for integers).\n",
      "Clipping input data to the valid range for imshow with RGB data ([0..1] for floats or [0..255] for integers).\n",
      "Clipping input data to the valid range for imshow with RGB data ([0..1] for floats or [0..255] for integers).\n",
      "Clipping input data to the valid range for imshow with RGB data ([0..1] for floats or [0..255] for integers).\n",
      "Clipping input data to the valid range for imshow with RGB data ([0..1] for floats or [0..255] for integers).\n"
     ]
    },
    {
     "data": {
      "image/png": "[encoded data removed]",
      "text/plain": [
       "<Figure size 432x288 with 5 Axes>"
      ]
     },
     "metadata": {
      "needs_background": "light"
     },
     "output_type": "display_data"
    }
   ],
   "source": [
    "# Sanity check to make sure the images are still intact\n",
    "for X, y in train_dataset.take(1):\n",
    "    for i in range(5):\n",
    "        plt.subplot(1, 5, i + 1)\n",
    "        plt.imshow(X[i].numpy())\n",
    "        plt.axis(\"off\")\n",
    "        plt.title(str(y[i].numpy()))\n"
   ]
  },
  {
   "cell_type": "code",
   "execution_count": 54,
   "metadata": {},
   "outputs": [
    {
     "name": "stdout",
     "output_type": "stream",
     "text": [
      "WARNING:tensorflow:`input_shape` is undefined or non-square, or `rows` is not in [96, 128, 160, 192, 224]. Weights for input shape (224, 224) will be loaded as the default.\n"
     ]
    }
   ],
   "source": [
    "# Building the top of the model (With Mobile Net)\n",
    "n_classes = 37\n",
    "base_model = tf.keras.applications.mobilenet_v2.MobileNetV2(weights=\"imagenet\",\n",
    "include_top=False, classes=n_classes)\n",
    "avg = tf.keras.layers.GlobalAveragePooling2D()(base_model.output)\n",
    "output = tf.keras.layers.Dense(n_classes, activation=\"softmax\")(avg)\n",
    "model = tf.keras.Model(inputs=base_model.input, outputs=output)"
   ]
  },
  {
   "cell_type": "code",
   "execution_count": 55,
   "metadata": {},
   "outputs": [],
   "source": [
    "# Freezing the weights so I don't ruin the good lower layers\n",
    "for layer in base_model.layers:\n",
    "    layer.trainable = False"
   ]
  },
  {
   "cell_type": "code",
   "execution_count": 56,
   "metadata": {},
   "outputs": [],
   "source": [
    "model.compile(loss=\"sparse_categorical_crossentropy\", optimizer=tf.keras.optimizers.Nadam(learning_rate=1e-3), metrics=[\"accuracy\"])"
   ]
  },
  {
   "cell_type": "code",
   "execution_count": 59,
   "metadata": {},
   "outputs": [],
   "source": [
    "# Making sure I only get back the best model\n",
    "checkpoint_cb = tf.keras.callbacks.ModelCheckpoint(\"mobileNetClothing.h5\", save_best_only=True)"
   ]
  },
  {
   "cell_type": "code",
   "execution_count": 60,
   "metadata": {},
   "outputs": [
    {
     "name": "stdout",
     "output_type": "stream",
     "text": [
      "Epoch 1/8\n",
      "443/443 [==============================] - 122s 272ms/step - loss: 1.0653 - accuracy: 0.6968 - val_loss: 0.6226 - val_accuracy: 0.8250\n"
     ]
    },
    {
     "name": "stderr",
     "output_type": "stream",
     "text": [
      "/home/ryuparish/.local/lib/python3.8/site-packages/tensorflow/python/keras/utils/generic_utils.py:494: CustomMaskWarning: Custom mask layers require a config and must override get_config. When loading, the custom mask layer must be passed to the custom_objects argument.\n",
      "  warnings.warn('Custom mask layers require a config and must override '\n"
     ]
    },
    {
     "name": "stdout",
     "output_type": "stream",
     "text": [
      "Epoch 2/8\n",
      "443/443 [==============================] - 120s 272ms/step - loss: 0.4483 - accuracy: 0.8725 - val_loss: 0.4920 - val_accuracy: 0.8530\n",
      "Epoch 3/8\n",
      "443/443 [==============================] - 131s 295ms/step - loss: 0.3241 - accuracy: 0.9121 - val_loss: 0.4437 - val_accuracy: 0.8700\n",
      "Epoch 4/8\n",
      "443/443 [==============================] - 127s 288ms/step - loss: 0.2544 - accuracy: 0.9332 - val_loss: 0.4219 - val_accuracy: 0.8770\n",
      "Epoch 5/8\n",
      "443/443 [==============================] - 133s 299ms/step - loss: 0.2069 - accuracy: 0.9483 - val_loss: 0.4126 - val_accuracy: 0.8780\n",
      "Epoch 6/8\n",
      "443/443 [==============================] - 133s 301ms/step - loss: 0.1717 - accuracy: 0.9619 - val_loss: 0.4091 - val_accuracy: 0.8770\n",
      "Epoch 7/8\n",
      "443/443 [==============================] - 142s 321ms/step - loss: 0.1446 - accuracy: 0.9700 - val_loss: 0.4088 - val_accuracy: 0.8780\n",
      "Epoch 8/8\n",
      "443/443 [==============================] - 125s 281ms/step - loss: 0.1232 - accuracy: 0.9766 - val_loss: 0.4111 - val_accuracy: 0.8790\n"
     ]
    },
    {
     "data": {
      "text/plain": [
       "<tensorflow.python.keras.callbacks.History at 0x7f73ac3b19a0>"
      ]
     },
     "execution_count": 60,
     "metadata": {},
     "output_type": "execute_result"
    }
   ],
   "source": [
    "model.fit(train_dataset, epochs=8, validation_data=valid_dataset, callbacks=[checkpoint_cb])"
   ]
  },
  {
   "cell_type": "code",
   "execution_count": 61,
   "metadata": {},
   "outputs": [
    {
     "name": "stdout",
     "output_type": "stream",
     "text": [
      "32/32 [==============================] - 8s 242ms/step - loss: 0.3889 - accuracy: 0.8860\n"
     ]
    },
    {
     "data": {
      "text/plain": [
       "[0.38886913657188416, 0.8859999775886536]"
      ]
     },
     "execution_count": 61,
     "metadata": {},
     "output_type": "execute_result"
    }
   ],
   "source": [
    "model.evaluate(test_dataset)"
   ]
  },
  {
   "cell_type": "code",
   "execution_count": null,
   "metadata": {},
   "outputs": [],
   "source": []
  }
 ],
 "metadata": {
  "kernelspec": {
   "display_name": "Python 3",
   "language": "python",
   "name": "python3"
  },
  "language_info": {
   "codemirror_mode": {
    "name": "ipython",
    "version": 3
   },
   "file_extension": ".py",
   "mimetype": "text/x-python",
   "name": "python",
   "nbconvert_exporter": "python",
   "pygments_lexer": "ipython3",
   "version": "3.8.10"
  }
 },
 "nbformat": 4,
 "nbformat_minor": 4
}
