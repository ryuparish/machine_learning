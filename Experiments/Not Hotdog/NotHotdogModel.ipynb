{
 "cells": [
  {
   "cell_type": "code",
   "execution_count": 65,
   "metadata": {},
   "outputs": [],
   "source": [
    "import tensorflow as tf\n",
    "import numpy as np\n",
    "import matplotlib.pyplot as plt"
   ]
  },
  {
   "cell_type": "code",
   "execution_count": 66,
   "metadata": {},
   "outputs": [],
   "source": [
    "def model_maker(IMG_WIDTH, IMG_HEIGHT, NUM_CLASSES):\n",
    "    base_model = tf.keras.applications.mobilenet.MobileNet(include_top=False, input_shape =\n",
    "    (IMG_WIDTH,IMG_HEIGHT,3))\n",
    "    for layer in base_model.layers[:-5]:\n",
    "        layer.trainable = False # Freeze the layers\n",
    "    input = tf.keras.layers.Input(shape=(IMG_WIDTH, IMG_HEIGHT, 3))\n",
    "    custom_model = base_model(input)\n",
    "    custom_model = tf.keras.layers.GlobalAveragePooling2D()(custom_model)\n",
    "    custom_model = tf.keras.layers.Dense(64, activation='relu')(custom_model)\n",
    "    custom_model = tf.keras.layers.Dropout(0.5)(custom_model)\n",
    "    predictions = tf.keras.layers.Dense(NUM_CLASSES, activation='sigmoid')(custom_model)\n",
    "    return tf.keras.Model(inputs=input, outputs=predictions)"
   ]
  },
  {
   "cell_type": "code",
   "execution_count": 67,
   "metadata": {},
   "outputs": [],
   "source": [
    "hotdogModel = model_maker(224,224,1)"
   ]
  },
  {
   "cell_type": "code",
   "execution_count": 68,
   "metadata": {},
   "outputs": [],
   "source": [
    "# Now to prepare the data\n",
    "# We will use the folders in the same directory."
   ]
  },
  {
   "cell_type": "code",
   "execution_count": 69,
   "metadata": {},
   "outputs": [
    {
     "name": "stdout",
     "output_type": "stream",
     "text": [
      "/home/ryuparish/Code/machine_learning/Experiments/Not Hotdog\n",
      "Not Hotdog/\n",
      "    NotHotdogModel.ipynb\n",
      "    hotdog.zip\n",
      "    .ipynb_checkpoints/\n",
      "        NotHotdogModel-checkpoint.ipynb\n",
      "    hotdog/\n",
      "        test/\n",
      "            hot_dog/\n",
      "                133012.jpg\n",
      "                133015.jpg\n",
      "                133245.jpg\n",
      "                ...\n",
      "            not_hot_dog/\n",
      "                13023.jpg\n",
      "                13080.jpg\n",
      "                13719.jpg\n",
      "                ...\n",
      "        train/\n",
      "            hot_dog/\n",
      "                1000288.jpg\n",
      "                1011661.jpg\n",
      "                1013916.jpg\n",
      "                ...\n",
      "            not_hot_dog/\n",
      "                100135.jpg\n",
      "                100148.jpg\n",
      "                100274.jpg\n",
      "                ...\n",
      "        seefood/\n",
      "            test/\n",
      "                hot_dog/\n",
      "                    133012.jpg\n",
      "                    133015.jpg\n",
      "                    133245.jpg\n",
      "                    ...\n",
      "                not_hot_dog/\n",
      "                    13023.jpg\n",
      "                    13080.jpg\n",
      "                    13719.jpg\n",
      "                    ...\n",
      "            train/\n",
      "                hot_dog/\n",
      "                    1000288.jpg\n",
      "                    1011661.jpg\n",
      "                    1013916.jpg\n",
      "                    ...\n",
      "                not_hot_dog/\n",
      "                    100135.jpg\n",
      "                    100148.jpg\n",
      "                    100274.jpg\n",
      "                    ...\n"
     ]
    }
   ],
   "source": [
    "import os\n",
    "from pathlib import Path\n",
    "path = Path(os.getcwd())\n",
    "print(path)\n",
    "# Getting all the paths for each image of clothing in the dataset\n",
    "# os.walk returns the current walking directory, the subdirectories within it, and then finally the files within it.\n",
    "for name, subdirs, files in os.walk(path):\n",
    "    indent = len(Path(name).parts) - len(path.parts)\n",
    "    print(\"    \" * indent + Path(name).parts[-1] + os.sep)\n",
    "    for index, filename in enumerate(sorted(files)):\n",
    "        # If we have printed three items already, just go ahead and print and ellipsis and move on\n",
    "        if index == 3:\n",
    "            print(\"    \" * (indent + 1) + \"...\")\n",
    "            break\n",
    "        print(\"    \" * (indent + 1) + filename)"
   ]
  },
  {
   "cell_type": "code",
   "execution_count": 70,
   "metadata": {},
   "outputs": [],
   "source": [
    "# Function to get all the image paths and glob them into one large list and then convert the PosixPath's into\n",
    "# strings\n",
    "def image_paths(dirpath):\n",
    "    # PosixPath.glob will get all the path names of a specific pattern and return all of them in a list\n",
    "    return [str(path) for path in dirpath.glob(\"*.jpg\")]"
   ]
  },
  {
   "cell_type": "code",
   "execution_count": 71,
   "metadata": {},
   "outputs": [],
   "source": [
    "# Getting the paths to all the images\n",
    "x_train = image_paths(path/\"hotdog\"/\"train\"/\"hot_dog\")\n",
    "y_train = image_paths(path/\"hotdog\"/\"train\"/\"not_hot_dog\")\n",
    "x_test = image_paths(path/\"hotdog\"/\"test\"/\"hot_dog\")\n",
    "y_test = image_paths(path/\"hotdog\"/\"test\"/\"not_hot_dog\")"
   ]
  },
  {
   "cell_type": "code",
   "execution_count": 72,
   "metadata": {},
   "outputs": [
    {
     "data": {
      "text/plain": [
       "['/home/ryuparish/Code/machine_learning/Experiments/Not Hotdog/hotdog/test/not_hot_dog/30892.jpg',\n",
       " '/home/ryuparish/Code/machine_learning/Experiments/Not Hotdog/hotdog/test/not_hot_dog/38615.jpg',\n",
       " '/home/ryuparish/Code/machine_learning/Experiments/Not Hotdog/hotdog/test/not_hot_dog/26078.jpg',\n",
       " '/home/ryuparish/Code/machine_learning/Experiments/Not Hotdog/hotdog/test/not_hot_dog/51368.jpg',\n",
       " '/home/ryuparish/Code/machine_learning/Experiments/Not Hotdog/hotdog/test/not_hot_dog/8350.jpg']"
      ]
     },
     "execution_count": 72,
     "metadata": {},
     "output_type": "execute_result"
    }
   ],
   "source": [
    "# Sanity Check\n",
    "y_test[:5]"
   ]
  },
  {
   "cell_type": "code",
   "execution_count": 73,
   "metadata": {},
   "outputs": [],
   "source": [
    "def label_image(filename):\n",
    "    # Getting the last file instead of the entire file path\n",
    "    depth_of_file = filename.count(\"/\")\n",
    "    filepath = filename.split(\"/\", depth_of_file - 3)[-1]\n",
    "    label = filepath.split(\"/\", 4)[2]\n",
    "    if(label == \"hot_dog\"):\n",
    "        label = 1\n",
    "    else:\n",
    "        label = 0\n",
    "    \n",
    "    # Returning the image and the encoded label\n",
    "    return filepath, label\n",
    "\n",
    "# For showing the image\n",
    "def show(image, label):\n",
    "    plt.figure()\n",
    "    plt.imshow(image)\n",
    "    plt.title(label)\n",
    "    plt.axis('off')"
   ]
  },
  {
   "cell_type": "code",
   "execution_count": 74,
   "metadata": {},
   "outputs": [],
   "source": [
    "import random\n",
    "train = x_train + y_train\n",
    "test = x_test + y_test"
   ]
  },
  {
   "cell_type": "code",
   "execution_count": 75,
   "metadata": {},
   "outputs": [],
   "source": [
    "random.shuffle(train)\n",
    "random.shuffle(test)"
   ]
  },
  {
   "cell_type": "code",
   "execution_count": 76,
   "metadata": {},
   "outputs": [
    {
     "name": "stdout",
     "output_type": "stream",
     "text": [
      "['/home/ryuparish/Code/machine_learning/Experiments/Not Hotdog/hotdog/train/hot_dog/3695334.jpg', '/home/ryuparish/Code/machine_learning/Experiments/Not Hotdog/hotdog/train/not_hot_dog/129045.jpg', '/home/ryuparish/Code/machine_learning/Experiments/Not Hotdog/hotdog/train/not_hot_dog/105375.jpg', '/home/ryuparish/Code/machine_learning/Experiments/Not Hotdog/hotdog/train/hot_dog/893274.jpg', '/home/ryuparish/Code/machine_learning/Experiments/Not Hotdog/hotdog/train/not_hot_dog/105647.jpg', '/home/ryuparish/Code/machine_learning/Experiments/Not Hotdog/hotdog/train/hot_dog/1211682.jpg', '/home/ryuparish/Code/machine_learning/Experiments/Not Hotdog/hotdog/train/hot_dog/3911675.jpg', '/home/ryuparish/Code/machine_learning/Experiments/Not Hotdog/hotdog/train/hot_dog/3746979.jpg', '/home/ryuparish/Code/machine_learning/Experiments/Not Hotdog/hotdog/train/hot_dog/1313978.jpg', '/home/ryuparish/Code/machine_learning/Experiments/Not Hotdog/hotdog/train/hot_dog/958900.jpg', '/home/ryuparish/Code/machine_learning/Experiments/Not Hotdog/hotdog/train/not_hot_dog/222586.jpg', '/home/ryuparish/Code/machine_learning/Experiments/Not Hotdog/hotdog/train/not_hot_dog/206271.jpg', '/home/ryuparish/Code/machine_learning/Experiments/Not Hotdog/hotdog/train/hot_dog/920993.jpg', '/home/ryuparish/Code/machine_learning/Experiments/Not Hotdog/hotdog/train/hot_dog/1335350.jpg', '/home/ryuparish/Code/machine_learning/Experiments/Not Hotdog/hotdog/train/hot_dog/118875.jpg', '/home/ryuparish/Code/machine_learning/Experiments/Not Hotdog/hotdog/train/not_hot_dog/817533.jpg', '/home/ryuparish/Code/machine_learning/Experiments/Not Hotdog/hotdog/train/not_hot_dog/191302.jpg', '/home/ryuparish/Code/machine_learning/Experiments/Not Hotdog/hotdog/train/hot_dog/3760604.jpg', '/home/ryuparish/Code/machine_learning/Experiments/Not Hotdog/hotdog/train/hot_dog/1055689.jpg', '/home/ryuparish/Code/machine_learning/Experiments/Not Hotdog/hotdog/train/hot_dog/3711230.jpg', '/home/ryuparish/Code/machine_learning/Experiments/Not Hotdog/hotdog/train/hot_dog/1251173.jpg', '/home/ryuparish/Code/machine_learning/Experiments/Not Hotdog/hotdog/train/hot_dog/867991.jpg', '/home/ryuparish/Code/machine_learning/Experiments/Not Hotdog/hotdog/train/hot_dog/910098.jpg', '/home/ryuparish/Code/machine_learning/Experiments/Not Hotdog/hotdog/train/hot_dog/120471.jpg', '/home/ryuparish/Code/machine_learning/Experiments/Not Hotdog/hotdog/train/hot_dog/3711747.jpg', '/home/ryuparish/Code/machine_learning/Experiments/Not Hotdog/hotdog/train/hot_dog/5079.jpg', '/home/ryuparish/Code/machine_learning/Experiments/Not Hotdog/hotdog/train/hot_dog/857110.jpg', '/home/ryuparish/Code/machine_learning/Experiments/Not Hotdog/hotdog/train/not_hot_dog/179038.jpg', '/home/ryuparish/Code/machine_learning/Experiments/Not Hotdog/hotdog/train/hot_dog/996310.jpg', '/home/ryuparish/Code/machine_learning/Experiments/Not Hotdog/hotdog/train/hot_dog/1068951.jpg', '/home/ryuparish/Code/machine_learning/Experiments/Not Hotdog/hotdog/train/hot_dog/3814644.jpg', '/home/ryuparish/Code/machine_learning/Experiments/Not Hotdog/hotdog/train/not_hot_dog/790763.jpg', '/home/ryuparish/Code/machine_learning/Experiments/Not Hotdog/hotdog/train/not_hot_dog/251128.jpg', '/home/ryuparish/Code/machine_learning/Experiments/Not Hotdog/hotdog/train/not_hot_dog/189787.jpg', '/home/ryuparish/Code/machine_learning/Experiments/Not Hotdog/hotdog/train/not_hot_dog/161122.jpg', '/home/ryuparish/Code/machine_learning/Experiments/Not Hotdog/hotdog/train/not_hot_dog/167022.jpg', '/home/ryuparish/Code/machine_learning/Experiments/Not Hotdog/hotdog/train/not_hot_dog/95565.jpg', '/home/ryuparish/Code/machine_learning/Experiments/Not Hotdog/hotdog/train/hot_dog/3789737.jpg', '/home/ryuparish/Code/machine_learning/Experiments/Not Hotdog/hotdog/train/not_hot_dog/178804.jpg', '/home/ryuparish/Code/machine_learning/Experiments/Not Hotdog/hotdog/train/hot_dog/1051628.jpg', '/home/ryuparish/Code/machine_learning/Experiments/Not Hotdog/hotdog/train/hot_dog/3736382.jpg', '/home/ryuparish/Code/machine_learning/Experiments/Not Hotdog/hotdog/train/hot_dog/1086377.jpg', '/home/ryuparish/Code/machine_learning/Experiments/Not Hotdog/hotdog/train/not_hot_dog/89197.jpg', '/home/ryuparish/Code/machine_learning/Experiments/Not Hotdog/hotdog/train/hot_dog/910827.jpg', '/home/ryuparish/Code/machine_learning/Experiments/Not Hotdog/hotdog/train/hot_dog/1251741.jpg', '/home/ryuparish/Code/machine_learning/Experiments/Not Hotdog/hotdog/train/hot_dog/3905030.jpg', '/home/ryuparish/Code/machine_learning/Experiments/Not Hotdog/hotdog/train/not_hot_dog/180453.jpg', '/home/ryuparish/Code/machine_learning/Experiments/Not Hotdog/hotdog/train/not_hot_dog/4889.jpg', '/home/ryuparish/Code/machine_learning/Experiments/Not Hotdog/hotdog/train/not_hot_dog/319830.jpg', '/home/ryuparish/Code/machine_learning/Experiments/Not Hotdog/hotdog/train/hot_dog/3701301.jpg', '/home/ryuparish/Code/machine_learning/Experiments/Not Hotdog/hotdog/train/not_hot_dog/212348.jpg', '/home/ryuparish/Code/machine_learning/Experiments/Not Hotdog/hotdog/train/not_hot_dog/200168.jpg', '/home/ryuparish/Code/machine_learning/Experiments/Not Hotdog/hotdog/train/not_hot_dog/188505.jpg', '/home/ryuparish/Code/machine_learning/Experiments/Not Hotdog/hotdog/train/not_hot_dog/108310.jpg', '/home/ryuparish/Code/machine_learning/Experiments/Not Hotdog/hotdog/train/hot_dog/1143110.jpg', '/home/ryuparish/Code/machine_learning/Experiments/Not Hotdog/hotdog/train/hot_dog/1224013.jpg', '/home/ryuparish/Code/machine_learning/Experiments/Not Hotdog/hotdog/train/not_hot_dog/114601.jpg', '/home/ryuparish/Code/machine_learning/Experiments/Not Hotdog/hotdog/train/hot_dog/3497635.jpg', '/home/ryuparish/Code/machine_learning/Experiments/Not Hotdog/hotdog/train/hot_dog/129092.jpg', '/home/ryuparish/Code/machine_learning/Experiments/Not Hotdog/hotdog/train/hot_dog/7896.jpg', '/home/ryuparish/Code/machine_learning/Experiments/Not Hotdog/hotdog/train/not_hot_dog/198099.jpg', '/home/ryuparish/Code/machine_learning/Experiments/Not Hotdog/hotdog/train/hot_dog/916396.jpg', '/home/ryuparish/Code/machine_learning/Experiments/Not Hotdog/hotdog/train/hot_dog/1226430.jpg', '/home/ryuparish/Code/machine_learning/Experiments/Not Hotdog/hotdog/train/not_hot_dog/194973.jpg', '/home/ryuparish/Code/machine_learning/Experiments/Not Hotdog/hotdog/train/not_hot_dog/748088.jpg', '/home/ryuparish/Code/machine_learning/Experiments/Not Hotdog/hotdog/train/not_hot_dog/109401.jpg', '/home/ryuparish/Code/machine_learning/Experiments/Not Hotdog/hotdog/train/not_hot_dog/123929.jpg', '/home/ryuparish/Code/machine_learning/Experiments/Not Hotdog/hotdog/train/not_hot_dog/110385.jpg', '/home/ryuparish/Code/machine_learning/Experiments/Not Hotdog/hotdog/train/hot_dog/3789403.jpg', '/home/ryuparish/Code/machine_learning/Experiments/Not Hotdog/hotdog/train/not_hot_dog/828189.jpg', '/home/ryuparish/Code/machine_learning/Experiments/Not Hotdog/hotdog/train/hot_dog/1023510.jpg', '/home/ryuparish/Code/machine_learning/Experiments/Not Hotdog/hotdog/train/hot_dog/3918223.jpg', '/home/ryuparish/Code/machine_learning/Experiments/Not Hotdog/hotdog/train/not_hot_dog/143994.jpg', '/home/ryuparish/Code/machine_learning/Experiments/Not Hotdog/hotdog/train/not_hot_dog/223676.jpg', '/home/ryuparish/Code/machine_learning/Experiments/Not Hotdog/hotdog/train/hot_dog/3750744.jpg', '/home/ryuparish/Code/machine_learning/Experiments/Not Hotdog/hotdog/train/hot_dog/3904556.jpg', '/home/ryuparish/Code/machine_learning/Experiments/Not Hotdog/hotdog/train/hot_dog/3763491.jpg', '/home/ryuparish/Code/machine_learning/Experiments/Not Hotdog/hotdog/train/not_hot_dog/99934.jpg', '/home/ryuparish/Code/machine_learning/Experiments/Not Hotdog/hotdog/train/not_hot_dog/333385.jpg', '/home/ryuparish/Code/machine_learning/Experiments/Not Hotdog/hotdog/train/not_hot_dog/6127.jpg', '/home/ryuparish/Code/machine_learning/Experiments/Not Hotdog/hotdog/train/not_hot_dog/107312.jpg', '/home/ryuparish/Code/machine_learning/Experiments/Not Hotdog/hotdog/train/not_hot_dog/256347.jpg', '/home/ryuparish/Code/machine_learning/Experiments/Not Hotdog/hotdog/train/hot_dog/115434.jpg', '/home/ryuparish/Code/machine_learning/Experiments/Not Hotdog/hotdog/train/hot_dog/865184.jpg', '/home/ryuparish/Code/machine_learning/Experiments/Not Hotdog/hotdog/train/not_hot_dog/136985.jpg', '/home/ryuparish/Code/machine_learning/Experiments/Not Hotdog/hotdog/train/hot_dog/3636192.jpg', '/home/ryuparish/Code/machine_learning/Experiments/Not Hotdog/hotdog/train/not_hot_dog/143685.jpg', '/home/ryuparish/Code/machine_learning/Experiments/Not Hotdog/hotdog/train/not_hot_dog/98617.jpg', '/home/ryuparish/Code/machine_learning/Experiments/Not Hotdog/hotdog/train/not_hot_dog/222138.jpg', '/home/ryuparish/Code/machine_learning/Experiments/Not Hotdog/hotdog/train/not_hot_dog/181579.jpg', '/home/ryuparish/Code/machine_learning/Experiments/Not Hotdog/hotdog/train/not_hot_dog/200639.jpg', '/home/ryuparish/Code/machine_learning/Experiments/Not Hotdog/hotdog/train/hot_dog/884796.jpg', '/home/ryuparish/Code/machine_learning/Experiments/Not Hotdog/hotdog/train/not_hot_dog/99136.jpg', '/home/ryuparish/Code/machine_learning/Experiments/Not Hotdog/hotdog/train/not_hot_dog/769437.jpg', '/home/ryuparish/Code/machine_learning/Experiments/Not Hotdog/hotdog/train/hot_dog/864518.jpg', '/home/ryuparish/Code/machine_learning/Experiments/Not Hotdog/hotdog/train/hot_dog/3495622.jpg', '/home/ryuparish/Code/machine_learning/Experiments/Not Hotdog/hotdog/train/hot_dog/1210977.jpg', '/home/ryuparish/Code/machine_learning/Experiments/Not Hotdog/hotdog/train/hot_dog/952378.jpg', '/home/ryuparish/Code/machine_learning/Experiments/Not Hotdog/hotdog/train/not_hot_dog/130384.jpg', '/home/ryuparish/Code/machine_learning/Experiments/Not Hotdog/hotdog/train/hot_dog/3846249.jpg', '/home/ryuparish/Code/machine_learning/Experiments/Not Hotdog/hotdog/train/hot_dog/1301907.jpg', '/home/ryuparish/Code/machine_learning/Experiments/Not Hotdog/hotdog/train/hot_dog/3811761.jpg', '/home/ryuparish/Code/machine_learning/Experiments/Not Hotdog/hotdog/train/hot_dog/3552463.jpg', '/home/ryuparish/Code/machine_learning/Experiments/Not Hotdog/hotdog/train/not_hot_dog/303460.jpg', '/home/ryuparish/Code/machine_learning/Experiments/Not Hotdog/hotdog/train/hot_dog/3843212.jpg', '/home/ryuparish/Code/machine_learning/Experiments/Not Hotdog/hotdog/train/hot_dog/3878668.jpg', '/home/ryuparish/Code/machine_learning/Experiments/Not Hotdog/hotdog/train/hot_dog/1352514.jpg', '/home/ryuparish/Code/machine_learning/Experiments/Not Hotdog/hotdog/train/hot_dog/3847258.jpg', '/home/ryuparish/Code/machine_learning/Experiments/Not Hotdog/hotdog/train/not_hot_dog/211949.jpg', '/home/ryuparish/Code/machine_learning/Experiments/Not Hotdog/hotdog/train/hot_dog/124323.jpg', '/home/ryuparish/Code/machine_learning/Experiments/Not Hotdog/hotdog/train/not_hot_dog/90481.jpg', '/home/ryuparish/Code/machine_learning/Experiments/Not Hotdog/hotdog/train/hot_dog/3639855.jpg', '/home/ryuparish/Code/machine_learning/Experiments/Not Hotdog/hotdog/train/hot_dog/926070.jpg', '/home/ryuparish/Code/machine_learning/Experiments/Not Hotdog/hotdog/train/not_hot_dog/192132.jpg', '/home/ryuparish/Code/machine_learning/Experiments/Not Hotdog/hotdog/train/hot_dog/3552499.jpg', '/home/ryuparish/Code/machine_learning/Experiments/Not Hotdog/hotdog/train/hot_dog/1204467.jpg', '/home/ryuparish/Code/machine_learning/Experiments/Not Hotdog/hotdog/train/hot_dog/1186993.jpg', '/home/ryuparish/Code/machine_learning/Experiments/Not Hotdog/hotdog/train/not_hot_dog/796326.jpg', '/home/ryuparish/Code/machine_learning/Experiments/Not Hotdog/hotdog/train/not_hot_dog/106608.jpg', '/home/ryuparish/Code/machine_learning/Experiments/Not Hotdog/hotdog/train/hot_dog/3494550.jpg', '/home/ryuparish/Code/machine_learning/Experiments/Not Hotdog/hotdog/train/not_hot_dog/96357.jpg', '/home/ryuparish/Code/machine_learning/Experiments/Not Hotdog/hotdog/train/hot_dog/3646755.jpg', '/home/ryuparish/Code/machine_learning/Experiments/Not Hotdog/hotdog/train/hot_dog/1233688.jpg', '/home/ryuparish/Code/machine_learning/Experiments/Not Hotdog/hotdog/train/hot_dog/127117.jpg', '/home/ryuparish/Code/machine_learning/Experiments/Not Hotdog/hotdog/train/not_hot_dog/258877.jpg', '/home/ryuparish/Code/machine_learning/Experiments/Not Hotdog/hotdog/train/hot_dog/116486.jpg', '/home/ryuparish/Code/machine_learning/Experiments/Not Hotdog/hotdog/train/not_hot_dog/182658.jpg', '/home/ryuparish/Code/machine_learning/Experiments/Not Hotdog/hotdog/train/hot_dog/3660087.jpg', '/home/ryuparish/Code/machine_learning/Experiments/Not Hotdog/hotdog/train/not_hot_dog/107816.jpg', '/home/ryuparish/Code/machine_learning/Experiments/Not Hotdog/hotdog/train/hot_dog/1040579.jpg', '/home/ryuparish/Code/machine_learning/Experiments/Not Hotdog/hotdog/train/not_hot_dog/99604.jpg', '/home/ryuparish/Code/machine_learning/Experiments/Not Hotdog/hotdog/train/not_hot_dog/203613.jpg', '/home/ryuparish/Code/machine_learning/Experiments/Not Hotdog/hotdog/train/not_hot_dog/217607.jpg', '/home/ryuparish/Code/machine_learning/Experiments/Not Hotdog/hotdog/train/not_hot_dog/816756.jpg', '/home/ryuparish/Code/machine_learning/Experiments/Not Hotdog/hotdog/train/not_hot_dog/95572.jpg', '/home/ryuparish/Code/machine_learning/Experiments/Not Hotdog/hotdog/train/hot_dog/76722.jpg', '/home/ryuparish/Code/machine_learning/Experiments/Not Hotdog/hotdog/train/hot_dog/3901819.jpg', '/home/ryuparish/Code/machine_learning/Experiments/Not Hotdog/hotdog/train/hot_dog/1143398.jpg', '/home/ryuparish/Code/machine_learning/Experiments/Not Hotdog/hotdog/train/not_hot_dog/4781.jpg', '/home/ryuparish/Code/machine_learning/Experiments/Not Hotdog/hotdog/train/not_hot_dog/164288.jpg', '/home/ryuparish/Code/machine_learning/Experiments/Not Hotdog/hotdog/train/hot_dog/1086677.jpg', '/home/ryuparish/Code/machine_learning/Experiments/Not Hotdog/hotdog/train/hot_dog/3655069.jpg', '/home/ryuparish/Code/machine_learning/Experiments/Not Hotdog/hotdog/train/not_hot_dog/6021.jpg', '/home/ryuparish/Code/machine_learning/Experiments/Not Hotdog/hotdog/train/hot_dog/3690427.jpg', '/home/ryuparish/Code/machine_learning/Experiments/Not Hotdog/hotdog/train/not_hot_dog/138514.jpg', '/home/ryuparish/Code/machine_learning/Experiments/Not Hotdog/hotdog/train/not_hot_dog/320734.jpg', '/home/ryuparish/Code/machine_learning/Experiments/Not Hotdog/hotdog/train/hot_dog/3838014.jpg', '/home/ryuparish/Code/machine_learning/Experiments/Not Hotdog/hotdog/train/hot_dog/1361187.jpg', '/home/ryuparish/Code/machine_learning/Experiments/Not Hotdog/hotdog/train/hot_dog/1144643.jpg', '/home/ryuparish/Code/machine_learning/Experiments/Not Hotdog/hotdog/train/not_hot_dog/185190.jpg', '/home/ryuparish/Code/machine_learning/Experiments/Not Hotdog/hotdog/train/not_hot_dog/145012.jpg', '/home/ryuparish/Code/machine_learning/Experiments/Not Hotdog/hotdog/train/hot_dog/3802333.jpg', '/home/ryuparish/Code/machine_learning/Experiments/Not Hotdog/hotdog/train/hot_dog/1195487.jpg', '/home/ryuparish/Code/machine_learning/Experiments/Not Hotdog/hotdog/train/not_hot_dog/96524.jpg', '/home/ryuparish/Code/machine_learning/Experiments/Not Hotdog/hotdog/train/hot_dog/3859916.jpg', '/home/ryuparish/Code/machine_learning/Experiments/Not Hotdog/hotdog/train/not_hot_dog/198445.jpg', '/home/ryuparish/Code/machine_learning/Experiments/Not Hotdog/hotdog/train/hot_dog/950413.jpg', '/home/ryuparish/Code/machine_learning/Experiments/Not Hotdog/hotdog/train/not_hot_dog/249430.jpg', '/home/ryuparish/Code/machine_learning/Experiments/Not Hotdog/hotdog/train/hot_dog/1125436.jpg', '/home/ryuparish/Code/machine_learning/Experiments/Not Hotdog/hotdog/train/hot_dog/950384.jpg', '/home/ryuparish/Code/machine_learning/Experiments/Not Hotdog/hotdog/train/not_hot_dog/1167.jpg', '/home/ryuparish/Code/machine_learning/Experiments/Not Hotdog/hotdog/train/not_hot_dog/784510.jpg', '/home/ryuparish/Code/machine_learning/Experiments/Not Hotdog/hotdog/train/not_hot_dog/296611.jpg', '/home/ryuparish/Code/machine_learning/Experiments/Not Hotdog/hotdog/train/not_hot_dog/173241.jpg', '/home/ryuparish/Code/machine_learning/Experiments/Not Hotdog/hotdog/train/not_hot_dog/103010.jpg', '/home/ryuparish/Code/machine_learning/Experiments/Not Hotdog/hotdog/train/not_hot_dog/270122.jpg', '/home/ryuparish/Code/machine_learning/Experiments/Not Hotdog/hotdog/train/not_hot_dog/89892.jpg', '/home/ryuparish/Code/machine_learning/Experiments/Not Hotdog/hotdog/train/hot_dog/1236871.jpg', '/home/ryuparish/Code/machine_learning/Experiments/Not Hotdog/hotdog/train/hot_dog/122606.jpg', '/home/ryuparish/Code/machine_learning/Experiments/Not Hotdog/hotdog/train/hot_dog/1322860.jpg', '/home/ryuparish/Code/machine_learning/Experiments/Not Hotdog/hotdog/train/not_hot_dog/823536.jpg', '/home/ryuparish/Code/machine_learning/Experiments/Not Hotdog/hotdog/train/not_hot_dog/291636.jpg', '/home/ryuparish/Code/machine_learning/Experiments/Not Hotdog/hotdog/train/hot_dog/891949.jpg', '/home/ryuparish/Code/machine_learning/Experiments/Not Hotdog/hotdog/train/not_hot_dog/200553.jpg', '/home/ryuparish/Code/machine_learning/Experiments/Not Hotdog/hotdog/train/hot_dog/3690.jpg', '/home/ryuparish/Code/machine_learning/Experiments/Not Hotdog/hotdog/train/not_hot_dog/99890.jpg', '/home/ryuparish/Code/machine_learning/Experiments/Not Hotdog/hotdog/train/not_hot_dog/90930.jpg', '/home/ryuparish/Code/machine_learning/Experiments/Not Hotdog/hotdog/train/hot_dog/3716190.jpg', '/home/ryuparish/Code/machine_learning/Experiments/Not Hotdog/hotdog/train/hot_dog/961367.jpg', '/home/ryuparish/Code/machine_learning/Experiments/Not Hotdog/hotdog/train/hot_dog/1046526.jpg', '/home/ryuparish/Code/machine_learning/Experiments/Not Hotdog/hotdog/train/not_hot_dog/234706.jpg', '/home/ryuparish/Code/machine_learning/Experiments/Not Hotdog/hotdog/train/not_hot_dog/289256.jpg', '/home/ryuparish/Code/machine_learning/Experiments/Not Hotdog/hotdog/train/not_hot_dog/89502.jpg', '/home/ryuparish/Code/machine_learning/Experiments/Not Hotdog/hotdog/train/not_hot_dog/140832.jpg', '/home/ryuparish/Code/machine_learning/Experiments/Not Hotdog/hotdog/train/hot_dog/959883.jpg', '/home/ryuparish/Code/machine_learning/Experiments/Not Hotdog/hotdog/train/not_hot_dog/266364.jpg', '/home/ryuparish/Code/machine_learning/Experiments/Not Hotdog/hotdog/train/not_hot_dog/138754.jpg', '/home/ryuparish/Code/machine_learning/Experiments/Not Hotdog/hotdog/train/not_hot_dog/184954.jpg', '/home/ryuparish/Code/machine_learning/Experiments/Not Hotdog/hotdog/train/not_hot_dog/776077.jpg', '/home/ryuparish/Code/machine_learning/Experiments/Not Hotdog/hotdog/train/hot_dog/3842701.jpg', '/home/ryuparish/Code/machine_learning/Experiments/Not Hotdog/hotdog/train/not_hot_dog/815394.jpg', '/home/ryuparish/Code/machine_learning/Experiments/Not Hotdog/hotdog/train/not_hot_dog/217445.jpg', '/home/ryuparish/Code/machine_learning/Experiments/Not Hotdog/hotdog/train/hot_dog/1182518.jpg', '/home/ryuparish/Code/machine_learning/Experiments/Not Hotdog/hotdog/train/hot_dog/956229.jpg', '/home/ryuparish/Code/machine_learning/Experiments/Not Hotdog/hotdog/train/hot_dog/869853.jpg', '/home/ryuparish/Code/machine_learning/Experiments/Not Hotdog/hotdog/train/hot_dog/3852193.jpg', '/home/ryuparish/Code/machine_learning/Experiments/Not Hotdog/hotdog/train/not_hot_dog/230015.jpg', '/home/ryuparish/Code/machine_learning/Experiments/Not Hotdog/hotdog/train/not_hot_dog/102813.jpg', '/home/ryuparish/Code/machine_learning/Experiments/Not Hotdog/hotdog/train/hot_dog/3870911.jpg', '/home/ryuparish/Code/machine_learning/Experiments/Not Hotdog/hotdog/train/hot_dog/3764724.jpg', '/home/ryuparish/Code/machine_learning/Experiments/Not Hotdog/hotdog/train/not_hot_dog/117282.jpg', '/home/ryuparish/Code/machine_learning/Experiments/Not Hotdog/hotdog/train/not_hot_dog/177372.jpg', '/home/ryuparish/Code/machine_learning/Experiments/Not Hotdog/hotdog/train/not_hot_dog/99201.jpg', '/home/ryuparish/Code/machine_learning/Experiments/Not Hotdog/hotdog/train/not_hot_dog/102037.jpg', '/home/ryuparish/Code/machine_learning/Experiments/Not Hotdog/hotdog/train/not_hot_dog/236973.jpg', '/home/ryuparish/Code/machine_learning/Experiments/Not Hotdog/hotdog/train/hot_dog/1161343.jpg', '/home/ryuparish/Code/machine_learning/Experiments/Not Hotdog/hotdog/train/not_hot_dog/238410.jpg', '/home/ryuparish/Code/machine_learning/Experiments/Not Hotdog/hotdog/train/hot_dog/867751.jpg', '/home/ryuparish/Code/machine_learning/Experiments/Not Hotdog/hotdog/train/not_hot_dog/126345.jpg', '/home/ryuparish/Code/machine_learning/Experiments/Not Hotdog/hotdog/train/not_hot_dog/92331.jpg', '/home/ryuparish/Code/machine_learning/Experiments/Not Hotdog/hotdog/train/not_hot_dog/181677.jpg', '/home/ryuparish/Code/machine_learning/Experiments/Not Hotdog/hotdog/train/hot_dog/1143044.jpg', '/home/ryuparish/Code/machine_learning/Experiments/Not Hotdog/hotdog/train/not_hot_dog/797686.jpg', '/home/ryuparish/Code/machine_learning/Experiments/Not Hotdog/hotdog/train/not_hot_dog/100148.jpg', '/home/ryuparish/Code/machine_learning/Experiments/Not Hotdog/hotdog/train/not_hot_dog/246510.jpg', '/home/ryuparish/Code/machine_learning/Experiments/Not Hotdog/hotdog/train/not_hot_dog/163153.jpg', '/home/ryuparish/Code/machine_learning/Experiments/Not Hotdog/hotdog/train/hot_dog/3503720.jpg', '/home/ryuparish/Code/machine_learning/Experiments/Not Hotdog/hotdog/train/not_hot_dog/153823.jpg', '/home/ryuparish/Code/machine_learning/Experiments/Not Hotdog/hotdog/train/not_hot_dog/4770.jpg', '/home/ryuparish/Code/machine_learning/Experiments/Not Hotdog/hotdog/train/hot_dog/1267706.jpg', '/home/ryuparish/Code/machine_learning/Experiments/Not Hotdog/hotdog/train/hot_dog/3872613.jpg', '/home/ryuparish/Code/machine_learning/Experiments/Not Hotdog/hotdog/train/hot_dog/3543293.jpg', '/home/ryuparish/Code/machine_learning/Experiments/Not Hotdog/hotdog/train/hot_dog/1344141.jpg', '/home/ryuparish/Code/machine_learning/Experiments/Not Hotdog/hotdog/train/not_hot_dog/197.jpg', '/home/ryuparish/Code/machine_learning/Experiments/Not Hotdog/hotdog/train/hot_dog/1134237.jpg', '/home/ryuparish/Code/machine_learning/Experiments/Not Hotdog/hotdog/train/hot_dog/1174926.jpg', '/home/ryuparish/Code/machine_learning/Experiments/Not Hotdog/hotdog/train/not_hot_dog/160301.jpg', '/home/ryuparish/Code/machine_learning/Experiments/Not Hotdog/hotdog/train/hot_dog/3525466.jpg', '/home/ryuparish/Code/machine_learning/Experiments/Not Hotdog/hotdog/train/hot_dog/3840582.jpg', '/home/ryuparish/Code/machine_learning/Experiments/Not Hotdog/hotdog/train/hot_dog/1159972.jpg', '/home/ryuparish/Code/machine_learning/Experiments/Not Hotdog/hotdog/train/hot_dog/1183508.jpg', '/home/ryuparish/Code/machine_learning/Experiments/Not Hotdog/hotdog/train/hot_dog/1123406.jpg', '/home/ryuparish/Code/machine_learning/Experiments/Not Hotdog/hotdog/train/not_hot_dog/5764.jpg', '/home/ryuparish/Code/machine_learning/Experiments/Not Hotdog/hotdog/train/hot_dog/3642871.jpg', '/home/ryuparish/Code/machine_learning/Experiments/Not Hotdog/hotdog/train/hot_dog/3884328.jpg', '/home/ryuparish/Code/machine_learning/Experiments/Not Hotdog/hotdog/train/not_hot_dog/749374.jpg', '/home/ryuparish/Code/machine_learning/Experiments/Not Hotdog/hotdog/train/not_hot_dog/182516.jpg', '/home/ryuparish/Code/machine_learning/Experiments/Not Hotdog/hotdog/train/not_hot_dog/108743.jpg', '/home/ryuparish/Code/machine_learning/Experiments/Not Hotdog/hotdog/train/not_hot_dog/172042.jpg', '/home/ryuparish/Code/machine_learning/Experiments/Not Hotdog/hotdog/train/not_hot_dog/166217.jpg', '/home/ryuparish/Code/machine_learning/Experiments/Not Hotdog/hotdog/train/not_hot_dog/91432.jpg', '/home/ryuparish/Code/machine_learning/Experiments/Not Hotdog/hotdog/train/not_hot_dog/90167.jpg', '/home/ryuparish/Code/machine_learning/Experiments/Not Hotdog/hotdog/train/not_hot_dog/200448.jpg', '/home/ryuparish/Code/machine_learning/Experiments/Not Hotdog/hotdog/train/hot_dog/1183725.jpg', '/home/ryuparish/Code/machine_learning/Experiments/Not Hotdog/hotdog/train/not_hot_dog/816725.jpg', '/home/ryuparish/Code/machine_learning/Experiments/Not Hotdog/hotdog/train/not_hot_dog/127029.jpg', '/home/ryuparish/Code/machine_learning/Experiments/Not Hotdog/hotdog/train/not_hot_dog/201362.jpg', '/home/ryuparish/Code/machine_learning/Experiments/Not Hotdog/hotdog/train/hot_dog/1057517.jpg', '/home/ryuparish/Code/machine_learning/Experiments/Not Hotdog/hotdog/train/hot_dog/1364019.jpg', '/home/ryuparish/Code/machine_learning/Experiments/Not Hotdog/hotdog/train/not_hot_dog/126784.jpg', '/home/ryuparish/Code/machine_learning/Experiments/Not Hotdog/hotdog/train/not_hot_dog/768793.jpg', '/home/ryuparish/Code/machine_learning/Experiments/Not Hotdog/hotdog/train/not_hot_dog/290229.jpg', '/home/ryuparish/Code/machine_learning/Experiments/Not Hotdog/hotdog/train/hot_dog/1086675.jpg', '/home/ryuparish/Code/machine_learning/Experiments/Not Hotdog/hotdog/train/hot_dog/940404.jpg', '/home/ryuparish/Code/machine_learning/Experiments/Not Hotdog/hotdog/train/hot_dog/3692506.jpg', '/home/ryuparish/Code/machine_learning/Experiments/Not Hotdog/hotdog/train/hot_dog/1013916.jpg', '/home/ryuparish/Code/machine_learning/Experiments/Not Hotdog/hotdog/train/hot_dog/1051643.jpg', '/home/ryuparish/Code/machine_learning/Experiments/Not Hotdog/hotdog/train/hot_dog/1363093.jpg', '/home/ryuparish/Code/machine_learning/Experiments/Not Hotdog/hotdog/train/not_hot_dog/143158.jpg', '/home/ryuparish/Code/machine_learning/Experiments/Not Hotdog/hotdog/train/hot_dog/1166403.jpg', '/home/ryuparish/Code/machine_learning/Experiments/Not Hotdog/hotdog/train/hot_dog/1268739.jpg', '/home/ryuparish/Code/machine_learning/Experiments/Not Hotdog/hotdog/train/hot_dog/1059903.jpg', '/home/ryuparish/Code/machine_learning/Experiments/Not Hotdog/hotdog/train/hot_dog/1182402.jpg', '/home/ryuparish/Code/machine_learning/Experiments/Not Hotdog/hotdog/train/hot_dog/1234491.jpg', '/home/ryuparish/Code/machine_learning/Experiments/Not Hotdog/hotdog/train/hot_dog/1119906.jpg', '/home/ryuparish/Code/machine_learning/Experiments/Not Hotdog/hotdog/train/hot_dog/941035.jpg', '/home/ryuparish/Code/machine_learning/Experiments/Not Hotdog/hotdog/train/hot_dog/3915296.jpg', '/home/ryuparish/Code/machine_learning/Experiments/Not Hotdog/hotdog/train/not_hot_dog/146029.jpg', '/home/ryuparish/Code/machine_learning/Experiments/Not Hotdog/hotdog/train/hot_dog/1115020.jpg', '/home/ryuparish/Code/machine_learning/Experiments/Not Hotdog/hotdog/train/not_hot_dog/293052.jpg', '/home/ryuparish/Code/machine_learning/Experiments/Not Hotdog/hotdog/train/hot_dog/3861791.jpg', '/home/ryuparish/Code/machine_learning/Experiments/Not Hotdog/hotdog/train/hot_dog/3558578.jpg', '/home/ryuparish/Code/machine_learning/Experiments/Not Hotdog/hotdog/train/not_hot_dog/191085.jpg', '/home/ryuparish/Code/machine_learning/Experiments/Not Hotdog/hotdog/train/hot_dog/3527149.jpg', '/home/ryuparish/Code/machine_learning/Experiments/Not Hotdog/hotdog/train/not_hot_dog/124128.jpg', '/home/ryuparish/Code/machine_learning/Experiments/Not Hotdog/hotdog/train/not_hot_dog/303809.jpg', '/home/ryuparish/Code/machine_learning/Experiments/Not Hotdog/hotdog/train/hot_dog/1195977.jpg', '/home/ryuparish/Code/machine_learning/Experiments/Not Hotdog/hotdog/train/hot_dog/1098635.jpg', '/home/ryuparish/Code/machine_learning/Experiments/Not Hotdog/hotdog/train/hot_dog/979767.jpg', '/home/ryuparish/Code/machine_learning/Experiments/Not Hotdog/hotdog/train/not_hot_dog/140292.jpg', '/home/ryuparish/Code/machine_learning/Experiments/Not Hotdog/hotdog/train/hot_dog/987193.jpg', '/home/ryuparish/Code/machine_learning/Experiments/Not Hotdog/hotdog/train/not_hot_dog/211973.jpg', '/home/ryuparish/Code/machine_learning/Experiments/Not Hotdog/hotdog/train/hot_dog/3847289.jpg', '/home/ryuparish/Code/machine_learning/Experiments/Not Hotdog/hotdog/train/hot_dog/1308699.jpg', '/home/ryuparish/Code/machine_learning/Experiments/Not Hotdog/hotdog/train/not_hot_dog/96213.jpg', '/home/ryuparish/Code/machine_learning/Experiments/Not Hotdog/hotdog/train/not_hot_dog/114269.jpg', '/home/ryuparish/Code/machine_learning/Experiments/Not Hotdog/hotdog/train/not_hot_dog/759160.jpg', '/home/ryuparish/Code/machine_learning/Experiments/Not Hotdog/hotdog/train/hot_dog/978158.jpg', '/home/ryuparish/Code/machine_learning/Experiments/Not Hotdog/hotdog/train/hot_dog/1282523.jpg', '/home/ryuparish/Code/machine_learning/Experiments/Not Hotdog/hotdog/train/hot_dog/1282229.jpg', '/home/ryuparish/Code/machine_learning/Experiments/Not Hotdog/hotdog/train/hot_dog/3726741.jpg', '/home/ryuparish/Code/machine_learning/Experiments/Not Hotdog/hotdog/train/hot_dog/930181.jpg', '/home/ryuparish/Code/machine_learning/Experiments/Not Hotdog/hotdog/train/not_hot_dog/791662.jpg', '/home/ryuparish/Code/machine_learning/Experiments/Not Hotdog/hotdog/train/hot_dog/3758438.jpg', '/home/ryuparish/Code/machine_learning/Experiments/Not Hotdog/hotdog/train/hot_dog/898576.jpg', '/home/ryuparish/Code/machine_learning/Experiments/Not Hotdog/hotdog/train/not_hot_dog/284999.jpg', '/home/ryuparish/Code/machine_learning/Experiments/Not Hotdog/hotdog/train/hot_dog/3864679.jpg', '/home/ryuparish/Code/machine_learning/Experiments/Not Hotdog/hotdog/train/not_hot_dog/113605.jpg', '/home/ryuparish/Code/machine_learning/Experiments/Not Hotdog/hotdog/train/hot_dog/3844876.jpg', '/home/ryuparish/Code/machine_learning/Experiments/Not Hotdog/hotdog/train/not_hot_dog/5762.jpg', '/home/ryuparish/Code/machine_learning/Experiments/Not Hotdog/hotdog/train/not_hot_dog/92235.jpg', '/home/ryuparish/Code/machine_learning/Experiments/Not Hotdog/hotdog/train/not_hot_dog/99010.jpg', '/home/ryuparish/Code/machine_learning/Experiments/Not Hotdog/hotdog/train/hot_dog/923240.jpg', '/home/ryuparish/Code/machine_learning/Experiments/Not Hotdog/hotdog/train/hot_dog/3782895.jpg', '/home/ryuparish/Code/machine_learning/Experiments/Not Hotdog/hotdog/train/not_hot_dog/309651.jpg', '/home/ryuparish/Code/machine_learning/Experiments/Not Hotdog/hotdog/train/not_hot_dog/1164.jpg', '/home/ryuparish/Code/machine_learning/Experiments/Not Hotdog/hotdog/train/not_hot_dog/223944.jpg', '/home/ryuparish/Code/machine_learning/Experiments/Not Hotdog/hotdog/train/not_hot_dog/174045.jpg', '/home/ryuparish/Code/machine_learning/Experiments/Not Hotdog/hotdog/train/hot_dog/1361606.jpg', '/home/ryuparish/Code/machine_learning/Experiments/Not Hotdog/hotdog/train/hot_dog/3748381.jpg', '/home/ryuparish/Code/machine_learning/Experiments/Not Hotdog/hotdog/train/not_hot_dog/262882.jpg', '/home/ryuparish/Code/machine_learning/Experiments/Not Hotdog/hotdog/train/not_hot_dog/93961.jpg', '/home/ryuparish/Code/machine_learning/Experiments/Not Hotdog/hotdog/train/not_hot_dog/166821.jpg', '/home/ryuparish/Code/machine_learning/Experiments/Not Hotdog/hotdog/train/hot_dog/1344958.jpg', '/home/ryuparish/Code/machine_learning/Experiments/Not Hotdog/hotdog/train/hot_dog/3497633.jpg', '/home/ryuparish/Code/machine_learning/Experiments/Not Hotdog/hotdog/train/not_hot_dog/801827.jpg', '/home/ryuparish/Code/machine_learning/Experiments/Not Hotdog/hotdog/train/hot_dog/3575940.jpg', '/home/ryuparish/Code/machine_learning/Experiments/Not Hotdog/hotdog/train/not_hot_dog/225525.jpg', '/home/ryuparish/Code/machine_learning/Experiments/Not Hotdog/hotdog/train/not_hot_dog/152498.jpg', '/home/ryuparish/Code/machine_learning/Experiments/Not Hotdog/hotdog/train/hot_dog/1166929.jpg', '/home/ryuparish/Code/machine_learning/Experiments/Not Hotdog/hotdog/train/hot_dog/1154965.jpg', '/home/ryuparish/Code/machine_learning/Experiments/Not Hotdog/hotdog/train/hot_dog/3742960.jpg', '/home/ryuparish/Code/machine_learning/Experiments/Not Hotdog/hotdog/train/not_hot_dog/98607.jpg', '/home/ryuparish/Code/machine_learning/Experiments/Not Hotdog/hotdog/train/hot_dog/3733809.jpg', '/home/ryuparish/Code/machine_learning/Experiments/Not Hotdog/hotdog/train/hot_dog/1057882.jpg', '/home/ryuparish/Code/machine_learning/Experiments/Not Hotdog/hotdog/train/hot_dog/1098632.jpg', '/home/ryuparish/Code/machine_learning/Experiments/Not Hotdog/hotdog/train/hot_dog/124987.jpg', '/home/ryuparish/Code/machine_learning/Experiments/Not Hotdog/hotdog/train/hot_dog/1161755.jpg', '/home/ryuparish/Code/machine_learning/Experiments/Not Hotdog/hotdog/train/not_hot_dog/160494.jpg', '/home/ryuparish/Code/machine_learning/Experiments/Not Hotdog/hotdog/train/not_hot_dog/107216.jpg', '/home/ryuparish/Code/machine_learning/Experiments/Not Hotdog/hotdog/train/hot_dog/3902792.jpg', '/home/ryuparish/Code/machine_learning/Experiments/Not Hotdog/hotdog/train/hot_dog/3714525.jpg', '/home/ryuparish/Code/machine_learning/Experiments/Not Hotdog/hotdog/train/not_hot_dog/822411.jpg', '/home/ryuparish/Code/machine_learning/Experiments/Not Hotdog/hotdog/train/not_hot_dog/338101.jpg', '/home/ryuparish/Code/machine_learning/Experiments/Not Hotdog/hotdog/train/hot_dog/1051711.jpg', '/home/ryuparish/Code/machine_learning/Experiments/Not Hotdog/hotdog/train/hot_dog/2417.jpg', '/home/ryuparish/Code/machine_learning/Experiments/Not Hotdog/hotdog/train/hot_dog/3728106.jpg', '/home/ryuparish/Code/machine_learning/Experiments/Not Hotdog/hotdog/train/hot_dog/1000288.jpg', '/home/ryuparish/Code/machine_learning/Experiments/Not Hotdog/hotdog/train/not_hot_dog/331674.jpg', '/home/ryuparish/Code/machine_learning/Experiments/Not Hotdog/hotdog/train/hot_dog/3733563.jpg', '/home/ryuparish/Code/machine_learning/Experiments/Not Hotdog/hotdog/train/not_hot_dog/766638.jpg', '/home/ryuparish/Code/machine_learning/Experiments/Not Hotdog/hotdog/train/not_hot_dog/765053.jpg', '/home/ryuparish/Code/machine_learning/Experiments/Not Hotdog/hotdog/train/hot_dog/853994.jpg', '/home/ryuparish/Code/machine_learning/Experiments/Not Hotdog/hotdog/train/hot_dog/1133460.jpg', '/home/ryuparish/Code/machine_learning/Experiments/Not Hotdog/hotdog/train/not_hot_dog/90923.jpg', '/home/ryuparish/Code/machine_learning/Experiments/Not Hotdog/hotdog/train/hot_dog/3497634.jpg', '/home/ryuparish/Code/machine_learning/Experiments/Not Hotdog/hotdog/train/not_hot_dog/204132.jpg', '/home/ryuparish/Code/machine_learning/Experiments/Not Hotdog/hotdog/train/hot_dog/3493406.jpg', '/home/ryuparish/Code/machine_learning/Experiments/Not Hotdog/hotdog/train/not_hot_dog/176667.jpg', '/home/ryuparish/Code/machine_learning/Experiments/Not Hotdog/hotdog/train/hot_dog/3538750.jpg', '/home/ryuparish/Code/machine_learning/Experiments/Not Hotdog/hotdog/train/hot_dog/3568139.jpg', '/home/ryuparish/Code/machine_learning/Experiments/Not Hotdog/hotdog/train/not_hot_dog/147628.jpg', '/home/ryuparish/Code/machine_learning/Experiments/Not Hotdog/hotdog/train/hot_dog/3622018.jpg', '/home/ryuparish/Code/machine_learning/Experiments/Not Hotdog/hotdog/train/not_hot_dog/147558.jpg', '/home/ryuparish/Code/machine_learning/Experiments/Not Hotdog/hotdog/train/not_hot_dog/172593.jpg', '/home/ryuparish/Code/machine_learning/Experiments/Not Hotdog/hotdog/train/not_hot_dog/835998.jpg', '/home/ryuparish/Code/machine_learning/Experiments/Not Hotdog/hotdog/train/not_hot_dog/94215.jpg', '/home/ryuparish/Code/machine_learning/Experiments/Not Hotdog/hotdog/train/hot_dog/3726090.jpg', '/home/ryuparish/Code/machine_learning/Experiments/Not Hotdog/hotdog/train/hot_dog/1179964.jpg', '/home/ryuparish/Code/machine_learning/Experiments/Not Hotdog/hotdog/train/not_hot_dog/239724.jpg', '/home/ryuparish/Code/machine_learning/Experiments/Not Hotdog/hotdog/train/hot_dog/3753950.jpg', '/home/ryuparish/Code/machine_learning/Experiments/Not Hotdog/hotdog/train/hot_dog/3835641.jpg', '/home/ryuparish/Code/machine_learning/Experiments/Not Hotdog/hotdog/train/not_hot_dog/204169.jpg', '/home/ryuparish/Code/machine_learning/Experiments/Not Hotdog/hotdog/train/not_hot_dog/292607.jpg', '/home/ryuparish/Code/machine_learning/Experiments/Not Hotdog/hotdog/train/not_hot_dog/244609.jpg', '/home/ryuparish/Code/machine_learning/Experiments/Not Hotdog/hotdog/train/hot_dog/3867396.jpg', '/home/ryuparish/Code/machine_learning/Experiments/Not Hotdog/hotdog/train/hot_dog/3742819.jpg', '/home/ryuparish/Code/machine_learning/Experiments/Not Hotdog/hotdog/train/hot_dog/3778004.jpg', '/home/ryuparish/Code/machine_learning/Experiments/Not Hotdog/hotdog/train/hot_dog/930190.jpg', '/home/ryuparish/Code/machine_learning/Experiments/Not Hotdog/hotdog/train/not_hot_dog/290382.jpg', '/home/ryuparish/Code/machine_learning/Experiments/Not Hotdog/hotdog/train/not_hot_dog/803895.jpg', '/home/ryuparish/Code/machine_learning/Experiments/Not Hotdog/hotdog/train/hot_dog/888267.jpg', '/home/ryuparish/Code/machine_learning/Experiments/Not Hotdog/hotdog/train/hot_dog/127252.jpg', '/home/ryuparish/Code/machine_learning/Experiments/Not Hotdog/hotdog/train/not_hot_dog/98675.jpg', '/home/ryuparish/Code/machine_learning/Experiments/Not Hotdog/hotdog/train/not_hot_dog/202247.jpg', '/home/ryuparish/Code/machine_learning/Experiments/Not Hotdog/hotdog/train/not_hot_dog/129730.jpg', '/home/ryuparish/Code/machine_learning/Experiments/Not Hotdog/hotdog/train/hot_dog/951103.jpg', '/home/ryuparish/Code/machine_learning/Experiments/Not Hotdog/hotdog/train/not_hot_dog/213387.jpg', '/home/ryuparish/Code/machine_learning/Experiments/Not Hotdog/hotdog/train/hot_dog/3637190.jpg', '/home/ryuparish/Code/machine_learning/Experiments/Not Hotdog/hotdog/train/not_hot_dog/159745.jpg', '/home/ryuparish/Code/machine_learning/Experiments/Not Hotdog/hotdog/train/hot_dog/3784903.jpg', '/home/ryuparish/Code/machine_learning/Experiments/Not Hotdog/hotdog/train/not_hot_dog/101312.jpg', '/home/ryuparish/Code/machine_learning/Experiments/Not Hotdog/hotdog/train/hot_dog/1245977.jpg', '/home/ryuparish/Code/machine_learning/Experiments/Not Hotdog/hotdog/train/hot_dog/3628132.jpg', '/home/ryuparish/Code/machine_learning/Experiments/Not Hotdog/hotdog/train/not_hot_dog/232844.jpg', '/home/ryuparish/Code/machine_learning/Experiments/Not Hotdog/hotdog/train/not_hot_dog/112309.jpg', '/home/ryuparish/Code/machine_learning/Experiments/Not Hotdog/hotdog/train/not_hot_dog/781137.jpg', '/home/ryuparish/Code/machine_learning/Experiments/Not Hotdog/hotdog/train/hot_dog/987144.jpg', '/home/ryuparish/Code/machine_learning/Experiments/Not Hotdog/hotdog/train/not_hot_dog/187087.jpg', '/home/ryuparish/Code/machine_learning/Experiments/Not Hotdog/hotdog/train/hot_dog/3690925.jpg', '/home/ryuparish/Code/machine_learning/Experiments/Not Hotdog/hotdog/train/hot_dog/1190833.jpg', '/home/ryuparish/Code/machine_learning/Experiments/Not Hotdog/hotdog/train/hot_dog/1251087.jpg', '/home/ryuparish/Code/machine_learning/Experiments/Not Hotdog/hotdog/train/hot_dog/917699.jpg', '/home/ryuparish/Code/machine_learning/Experiments/Not Hotdog/hotdog/train/hot_dog/1017226.jpg', '/home/ryuparish/Code/machine_learning/Experiments/Not Hotdog/hotdog/train/hot_dog/1153737.jpg', '/home/ryuparish/Code/machine_learning/Experiments/Not Hotdog/hotdog/train/not_hot_dog/110171.jpg', '/home/ryuparish/Code/machine_learning/Experiments/Not Hotdog/hotdog/train/not_hot_dog/93653.jpg', '/home/ryuparish/Code/machine_learning/Experiments/Not Hotdog/hotdog/train/not_hot_dog/147599.jpg', '/home/ryuparish/Code/machine_learning/Experiments/Not Hotdog/hotdog/train/not_hot_dog/96935.jpg', '/home/ryuparish/Code/machine_learning/Experiments/Not Hotdog/hotdog/train/not_hot_dog/109926.jpg', '/home/ryuparish/Code/machine_learning/Experiments/Not Hotdog/hotdog/train/hot_dog/1336262.jpg', '/home/ryuparish/Code/machine_learning/Experiments/Not Hotdog/hotdog/train/hot_dog/971944.jpg', '/home/ryuparish/Code/machine_learning/Experiments/Not Hotdog/hotdog/train/hot_dog/3798465.jpg', '/home/ryuparish/Code/machine_learning/Experiments/Not Hotdog/hotdog/train/not_hot_dog/203924.jpg', '/home/ryuparish/Code/machine_learning/Experiments/Not Hotdog/hotdog/train/not_hot_dog/5813.jpg', '/home/ryuparish/Code/machine_learning/Experiments/Not Hotdog/hotdog/train/not_hot_dog/215927.jpg', '/home/ryuparish/Code/machine_learning/Experiments/Not Hotdog/hotdog/train/not_hot_dog/192632.jpg', '/home/ryuparish/Code/machine_learning/Experiments/Not Hotdog/hotdog/train/not_hot_dog/100945.jpg', '/home/ryuparish/Code/machine_learning/Experiments/Not Hotdog/hotdog/train/not_hot_dog/807258.jpg', '/home/ryuparish/Code/machine_learning/Experiments/Not Hotdog/hotdog/train/hot_dog/3645373.jpg', '/home/ryuparish/Code/machine_learning/Experiments/Not Hotdog/hotdog/train/not_hot_dog/100135.jpg', '/home/ryuparish/Code/machine_learning/Experiments/Not Hotdog/hotdog/train/not_hot_dog/90116.jpg', '/home/ryuparish/Code/machine_learning/Experiments/Not Hotdog/hotdog/train/not_hot_dog/204100.jpg', '/home/ryuparish/Code/machine_learning/Experiments/Not Hotdog/hotdog/train/hot_dog/1011661.jpg', '/home/ryuparish/Code/machine_learning/Experiments/Not Hotdog/hotdog/train/hot_dog/3860703.jpg', '/home/ryuparish/Code/machine_learning/Experiments/Not Hotdog/hotdog/train/not_hot_dog/147312.jpg', '/home/ryuparish/Code/machine_learning/Experiments/Not Hotdog/hotdog/train/hot_dog/3905238.jpg', '/home/ryuparish/Code/machine_learning/Experiments/Not Hotdog/hotdog/train/hot_dog/1018245.jpg', '/home/ryuparish/Code/machine_learning/Experiments/Not Hotdog/hotdog/train/not_hot_dog/141320.jpg', '/home/ryuparish/Code/machine_learning/Experiments/Not Hotdog/hotdog/train/not_hot_dog/123902.jpg', '/home/ryuparish/Code/machine_learning/Experiments/Not Hotdog/hotdog/train/not_hot_dog/274368.jpg', '/home/ryuparish/Code/machine_learning/Experiments/Not Hotdog/hotdog/train/not_hot_dog/189482.jpg', '/home/ryuparish/Code/machine_learning/Experiments/Not Hotdog/hotdog/train/hot_dog/1265953.jpg', '/home/ryuparish/Code/machine_learning/Experiments/Not Hotdog/hotdog/train/hot_dog/978455.jpg', '/home/ryuparish/Code/machine_learning/Experiments/Not Hotdog/hotdog/train/not_hot_dog/91708.jpg', '/home/ryuparish/Code/machine_learning/Experiments/Not Hotdog/hotdog/train/hot_dog/938937.jpg', '/home/ryuparish/Code/machine_learning/Experiments/Not Hotdog/hotdog/train/hot_dog/1207811.jpg', '/home/ryuparish/Code/machine_learning/Experiments/Not Hotdog/hotdog/train/hot_dog/3730066.jpg', '/home/ryuparish/Code/machine_learning/Experiments/Not Hotdog/hotdog/train/hot_dog/1111638.jpg', '/home/ryuparish/Code/machine_learning/Experiments/Not Hotdog/hotdog/train/hot_dog/117749.jpg', '/home/ryuparish/Code/machine_learning/Experiments/Not Hotdog/hotdog/train/not_hot_dog/244006.jpg', '/home/ryuparish/Code/machine_learning/Experiments/Not Hotdog/hotdog/train/not_hot_dog/139291.jpg', '/home/ryuparish/Code/machine_learning/Experiments/Not Hotdog/hotdog/train/not_hot_dog/102197.jpg', '/home/ryuparish/Code/machine_learning/Experiments/Not Hotdog/hotdog/train/hot_dog/3503584.jpg', '/home/ryuparish/Code/machine_learning/Experiments/Not Hotdog/hotdog/train/not_hot_dog/322067.jpg', '/home/ryuparish/Code/machine_learning/Experiments/Not Hotdog/hotdog/train/not_hot_dog/265743.jpg', '/home/ryuparish/Code/machine_learning/Experiments/Not Hotdog/hotdog/train/not_hot_dog/100274.jpg', '/home/ryuparish/Code/machine_learning/Experiments/Not Hotdog/hotdog/train/hot_dog/3684539.jpg', '/home/ryuparish/Code/machine_learning/Experiments/Not Hotdog/hotdog/train/not_hot_dog/174977.jpg', '/home/ryuparish/Code/machine_learning/Experiments/Not Hotdog/hotdog/train/not_hot_dog/837058.jpg', '/home/ryuparish/Code/machine_learning/Experiments/Not Hotdog/hotdog/train/not_hot_dog/183313.jpg', '/home/ryuparish/Code/machine_learning/Experiments/Not Hotdog/hotdog/train/not_hot_dog/824157.jpg', '/home/ryuparish/Code/machine_learning/Experiments/Not Hotdog/hotdog/train/not_hot_dog/233172.jpg', '/home/ryuparish/Code/machine_learning/Experiments/Not Hotdog/hotdog/train/hot_dog/125329.jpg', '/home/ryuparish/Code/machine_learning/Experiments/Not Hotdog/hotdog/train/not_hot_dog/134369.jpg', '/home/ryuparish/Code/machine_learning/Experiments/Not Hotdog/hotdog/train/hot_dog/907088.jpg', '/home/ryuparish/Code/machine_learning/Experiments/Not Hotdog/hotdog/train/not_hot_dog/129050.jpg', '/home/ryuparish/Code/machine_learning/Experiments/Not Hotdog/hotdog/train/not_hot_dog/118378.jpg', '/home/ryuparish/Code/machine_learning/Experiments/Not Hotdog/hotdog/train/hot_dog/1226791.jpg', '/home/ryuparish/Code/machine_learning/Experiments/Not Hotdog/hotdog/train/not_hot_dog/274711.jpg', '/home/ryuparish/Code/machine_learning/Experiments/Not Hotdog/hotdog/train/hot_dog/3577428.jpg', '/home/ryuparish/Code/machine_learning/Experiments/Not Hotdog/hotdog/train/not_hot_dog/846311.jpg', '/home/ryuparish/Code/machine_learning/Experiments/Not Hotdog/hotdog/train/hot_dog/3912870.jpg', '/home/ryuparish/Code/machine_learning/Experiments/Not Hotdog/hotdog/train/not_hot_dog/250720.jpg', '/home/ryuparish/Code/machine_learning/Experiments/Not Hotdog/hotdog/train/not_hot_dog/92128.jpg', '/home/ryuparish/Code/machine_learning/Experiments/Not Hotdog/hotdog/train/not_hot_dog/215931.jpg', '/home/ryuparish/Code/machine_learning/Experiments/Not Hotdog/hotdog/train/not_hot_dog/302329.jpg', '/home/ryuparish/Code/machine_learning/Experiments/Not Hotdog/hotdog/train/not_hot_dog/146910.jpg', '/home/ryuparish/Code/machine_learning/Experiments/Not Hotdog/hotdog/train/hot_dog/893996.jpg', '/home/ryuparish/Code/machine_learning/Experiments/Not Hotdog/hotdog/train/not_hot_dog/107013.jpg', '/home/ryuparish/Code/machine_learning/Experiments/Not Hotdog/hotdog/train/not_hot_dog/225804.jpg', '/home/ryuparish/Code/machine_learning/Experiments/Not Hotdog/hotdog/train/hot_dog/3620891.jpg', '/home/ryuparish/Code/machine_learning/Experiments/Not Hotdog/hotdog/train/hot_dog/1104394.jpg', '/home/ryuparish/Code/machine_learning/Experiments/Not Hotdog/hotdog/train/hot_dog/935952.jpg', '/home/ryuparish/Code/machine_learning/Experiments/Not Hotdog/hotdog/train/hot_dog/856178.jpg', '/home/ryuparish/Code/machine_learning/Experiments/Not Hotdog/hotdog/train/not_hot_dog/153387.jpg', '/home/ryuparish/Code/machine_learning/Experiments/Not Hotdog/hotdog/train/hot_dog/1192908.jpg', '/home/ryuparish/Code/machine_learning/Experiments/Not Hotdog/hotdog/train/hot_dog/974520.jpg', '/home/ryuparish/Code/machine_learning/Experiments/Not Hotdog/hotdog/train/hot_dog/3872738.jpg', '/home/ryuparish/Code/machine_learning/Experiments/Not Hotdog/hotdog/train/hot_dog/122007.jpg', '/home/ryuparish/Code/machine_learning/Experiments/Not Hotdog/hotdog/train/not_hot_dog/134598.jpg', '/home/ryuparish/Code/machine_learning/Experiments/Not Hotdog/hotdog/train/hot_dog/3765729.jpg', '/home/ryuparish/Code/machine_learning/Experiments/Not Hotdog/hotdog/train/hot_dog/3655420.jpg', '/home/ryuparish/Code/machine_learning/Experiments/Not Hotdog/hotdog/train/hot_dog/1205205.jpg', '/home/ryuparish/Code/machine_learning/Experiments/Not Hotdog/hotdog/train/hot_dog/1143830.jpg', '/home/ryuparish/Code/machine_learning/Experiments/Not Hotdog/hotdog/train/hot_dog/1308879.jpg', '/home/ryuparish/Code/machine_learning/Experiments/Not Hotdog/hotdog/train/not_hot_dog/130766.jpg', '/home/ryuparish/Code/machine_learning/Experiments/Not Hotdog/hotdog/train/not_hot_dog/89974.jpg', '/home/ryuparish/Code/machine_learning/Experiments/Not Hotdog/hotdog/train/hot_dog/1107015.jpg', '/home/ryuparish/Code/machine_learning/Experiments/Not Hotdog/hotdog/train/not_hot_dog/153648.jpg', '/home/ryuparish/Code/machine_learning/Experiments/Not Hotdog/hotdog/train/hot_dog/1053879.jpg', '/home/ryuparish/Code/machine_learning/Experiments/Not Hotdog/hotdog/train/not_hot_dog/219778.jpg', '/home/ryuparish/Code/machine_learning/Experiments/Not Hotdog/hotdog/train/not_hot_dog/160611.jpg', '/home/ryuparish/Code/machine_learning/Experiments/Not Hotdog/hotdog/train/not_hot_dog/296039.jpg', '/home/ryuparish/Code/machine_learning/Experiments/Not Hotdog/hotdog/train/not_hot_dog/311779.jpg', '/home/ryuparish/Code/machine_learning/Experiments/Not Hotdog/hotdog/train/not_hot_dog/267713.jpg', '/home/ryuparish/Code/machine_learning/Experiments/Not Hotdog/hotdog/train/hot_dog/3724744.jpg', '/home/ryuparish/Code/machine_learning/Experiments/Not Hotdog/hotdog/train/not_hot_dog/4176.jpg', '/home/ryuparish/Code/machine_learning/Experiments/Not Hotdog/hotdog/train/not_hot_dog/157282.jpg', '/home/ryuparish/Code/machine_learning/Experiments/Not Hotdog/hotdog/train/not_hot_dog/90989.jpg', '/home/ryuparish/Code/machine_learning/Experiments/Not Hotdog/hotdog/train/not_hot_dog/240760.jpg', '/home/ryuparish/Code/machine_learning/Experiments/Not Hotdog/hotdog/train/not_hot_dog/168924.jpg', '/home/ryuparish/Code/machine_learning/Experiments/Not Hotdog/hotdog/train/not_hot_dog/149278.jpg', '/home/ryuparish/Code/machine_learning/Experiments/Not Hotdog/hotdog/train/not_hot_dog/97656.jpg', '/home/ryuparish/Code/machine_learning/Experiments/Not Hotdog/hotdog/train/not_hot_dog/275673.jpg', '/home/ryuparish/Code/machine_learning/Experiments/Not Hotdog/hotdog/train/not_hot_dog/779193.jpg', '/home/ryuparish/Code/machine_learning/Experiments/Not Hotdog/hotdog/train/hot_dog/1195698.jpg', '/home/ryuparish/Code/machine_learning/Experiments/Not Hotdog/hotdog/train/hot_dog/1114633.jpg']\n"
     ]
    }
   ],
   "source": [
    "# Sanity Check\n",
    "print(train)"
   ]
  },
  {
   "cell_type": "code",
   "execution_count": 77,
   "metadata": {},
   "outputs": [],
   "source": [
    "# This is actually not x and y data but positive and negative examples of both datasets\n",
    "train = map(label_image, train)\n",
    "train = list(train)\n",
    "test = map(label_image, test)\n",
    "test = list(test)"
   ]
  },
  {
   "cell_type": "code",
   "execution_count": 78,
   "metadata": {
    "scrolled": false
   },
   "outputs": [
    {
     "data": {
      "text/plain": [
       "[('hotdog/test/hot_dog/285214.jpg', 1),\n",
       " ('hotdog/test/not_hot_dog/30731.jpg', 0),\n",
       " ('hotdog/test/hot_dog/397071.jpg', 1),\n",
       " ('hotdog/test/not_hot_dog/19487.jpg', 0),\n",
       " ('hotdog/test/not_hot_dog/46246.jpg', 0)]"
      ]
     },
     "execution_count": 78,
     "metadata": {},
     "output_type": "execute_result"
    }
   ],
   "source": [
    "# Sanity Check\n",
    "test[:5]"
   ]
  },
  {
   "cell_type": "code",
   "execution_count": 79,
   "metadata": {},
   "outputs": [],
   "source": [
    "# Dividing up the training set into validation and training data and making the test set a little smaller\n",
    "train = train + test[:200]\n",
    "test = test[400:]"
   ]
  },
  {
   "cell_type": "code",
   "execution_count": 80,
   "metadata": {},
   "outputs": [],
   "source": [
    "valid = train[:150]\n",
    "train = train[150:]"
   ]
  },
  {
   "cell_type": "code",
   "execution_count": 81,
   "metadata": {},
   "outputs": [],
   "source": [
    "train = np.asarray(train)\n",
    "valid = np.asarray(valid)\n",
    "test = np.asarray(test)"
   ]
  },
  {
   "cell_type": "code",
   "execution_count": 82,
   "metadata": {},
   "outputs": [],
   "source": [
    "x_train = train[:,0]\n",
    "y_train = train[:,1].astype(np.int32).reshape((-1,1))\n",
    "x_valid = valid[:,0]\n",
    "y_valid = valid[:,1].astype(np.int32).reshape((-1,1))\n",
    "x_test = test[:,0]\n",
    "y_test = test[:,1].astype(np.int32).reshape((-1,1))"
   ]
  },
  {
   "cell_type": "code",
   "execution_count": 83,
   "metadata": {},
   "outputs": [
    {
     "data": {
      "text/plain": [
       "array([[0],\n",
       "       [1],\n",
       "       [1],\n",
       "       [0],\n",
       "       [1]], dtype=int32)"
      ]
     },
     "execution_count": 83,
     "metadata": {},
     "output_type": "execute_result"
    }
   ],
   "source": [
    "y_train[:5]"
   ]
  },
  {
   "cell_type": "code",
   "execution_count": 84,
   "metadata": {},
   "outputs": [],
   "source": [
    "# Image parsing and then attaching a label based on the name of the file\n",
    "# Original\n",
    "from PIL import Image\n",
    "def parse_image(filepath):\n",
    "    # Getting the image from the filepath\n",
    "    image = Image.open(filepath)\n",
    "    image = image.resize((224, 224))\n",
    "    image = np.asarray(image)/255\n",
    "    # Returning the image and the encoded label\n",
    "    return image"
   ]
  },
  {
   "cell_type": "code",
   "execution_count": 85,
   "metadata": {},
   "outputs": [],
   "source": [
    "# Converting the image filepaths into their images\n",
    "x_train = map(parse_image, x_train)\n",
    "x_train = np.asarray(list(x_train)).astype(np.float32)\n",
    "x_valid = map(parse_image, x_valid)\n",
    "x_valid = np.asarray(list(x_valid)).astype(np.float32)\n",
    "x_test = map(parse_image, x_test)\n",
    "x_test = np.asarray(list(x_test)).astype(np.float32)"
   ]
  },
  {
   "cell_type": "code",
   "execution_count": 86,
   "metadata": {},
   "outputs": [
    {
     "name": "stdout",
     "output_type": "stream",
     "text": [
      "(1, 548, 224, 224, 3)\n",
      "(548, 224, 224, 3)\n",
      "(548, 1)\n"
     ]
    }
   ],
   "source": [
    "print(np.expand_dims(x_train, axis=0).shape)\n",
    "print(x_train.shape)\n",
    "print(y_train.shape)"
   ]
  },
  {
   "cell_type": "code",
   "execution_count": 87,
   "metadata": {},
   "outputs": [
    {
     "name": "stdout",
     "output_type": "stream",
     "text": [
      "(150, 224, 224, 3)\n"
     ]
    }
   ],
   "source": [
    "print(x_valid.shape)"
   ]
  },
  {
   "cell_type": "code",
   "execution_count": 88,
   "metadata": {},
   "outputs": [],
   "source": [
    "# Converting the images with their labels into tensorflow datasets\n",
    "training_dataset = tf.data.Dataset.from_tensor_slices((x_train, y_train)).shuffle(100).batch(32).prefetch(1)\n",
    "valid_dataset = tf.data.Dataset.from_tensor_slices((x_valid, y_valid)).shuffle(100).batch(32).prefetch(1)\n",
    "testing_dataset = tf.data.Dataset.from_tensor_slices((x_test, y_test)).batch(1)"
   ]
  },
  {
   "cell_type": "code",
   "execution_count": 89,
   "metadata": {},
   "outputs": [
    {
     "name": "stdout",
     "output_type": "stream",
     "text": [
      "Model: \"model_2\"\n",
      "_________________________________________________________________\n",
      "Layer (type)                 Output Shape              Param #   \n",
      "=================================================================\n",
      "input_6 (InputLayer)         [(None, 224, 224, 3)]     0         \n",
      "_________________________________________________________________\n",
      "mobilenet_1.00_224 (Function (None, 7, 7, 1024)        3228864   \n",
      "_________________________________________________________________\n",
      "global_average_pooling2d_2 ( (None, 1024)              0         \n",
      "_________________________________________________________________\n",
      "dense_4 (Dense)              (None, 64)                65600     \n",
      "_________________________________________________________________\n",
      "dropout_2 (Dropout)          (None, 64)                0         \n",
      "_________________________________________________________________\n",
      "dense_5 (Dense)              (None, 1)                 65        \n",
      "=================================================================\n",
      "Total params: 3,294,529\n",
      "Trainable params: 1,118,337\n",
      "Non-trainable params: 2,176,192\n",
      "_________________________________________________________________\n"
     ]
    }
   ],
   "source": [
    "hotdogModel.summary()"
   ]
  },
  {
   "cell_type": "code",
   "execution_count": 92,
   "metadata": {},
   "outputs": [],
   "source": [
    "hotdogModel.compile(loss=\"binary_crossentropy\", optimizer=tf.keras.optimizers.Adam(learning_rate=1e-3), metrics=[\"accuracy\"])"
   ]
  },
  {
   "cell_type": "code",
   "execution_count": 93,
   "metadata": {},
   "outputs": [
    {
     "name": "stdout",
     "output_type": "stream",
     "text": [
      "Epoch 1/10\n",
      "18/18 [==============================] - 7s 334ms/step - loss: 0.0554 - accuracy: 0.9872 - val_loss: 3.0824 - val_accuracy: 0.7200\n",
      "Epoch 2/10\n",
      "18/18 [==============================] - 6s 336ms/step - loss: 0.0332 - accuracy: 0.9891 - val_loss: 1.8861 - val_accuracy: 0.7467\n",
      "Epoch 3/10\n",
      "18/18 [==============================] - 6s 343ms/step - loss: 0.0469 - accuracy: 0.9836 - val_loss: 1.5198 - val_accuracy: 0.8000\n",
      "Epoch 4/10\n",
      "18/18 [==============================] - 6s 342ms/step - loss: 0.0242 - accuracy: 0.9891 - val_loss: 2.1243 - val_accuracy: 0.7467\n",
      "Epoch 5/10\n",
      "18/18 [==============================] - 6s 339ms/step - loss: 0.0082 - accuracy: 0.9982 - val_loss: 1.9967 - val_accuracy: 0.7600\n",
      "Epoch 6/10\n",
      "18/18 [==============================] - 6s 335ms/step - loss: 0.0537 - accuracy: 0.9872 - val_loss: 1.6687 - val_accuracy: 0.8067\n",
      "Epoch 7/10\n",
      "18/18 [==============================] - 6s 342ms/step - loss: 0.0074 - accuracy: 0.9982 - val_loss: 1.5536 - val_accuracy: 0.8133\n",
      "Epoch 8/10\n",
      "18/18 [==============================] - 6s 336ms/step - loss: 0.0029 - accuracy: 1.0000 - val_loss: 1.5079 - val_accuracy: 0.8133\n",
      "Epoch 9/10\n",
      "18/18 [==============================] - 6s 340ms/step - loss: 0.0039 - accuracy: 1.0000 - val_loss: 1.4063 - val_accuracy: 0.8200\n",
      "Epoch 10/10\n",
      "18/18 [==============================] - 6s 338ms/step - loss: 0.0021 - accuracy: 1.0000 - val_loss: 1.1672 - val_accuracy: 0.8267\n"
     ]
    },
    {
     "data": {
      "text/plain": [
       "<tensorflow.python.keras.callbacks.History at 0x7f886fce2a90>"
      ]
     },
     "execution_count": 93,
     "metadata": {},
     "output_type": "execute_result"
    }
   ],
   "source": [
    "# This runs but it just gets the same accuracy over and over, I changed the last layer from softmax to sigmoid and it started working.\n",
    "# I also changed the optimizer from nadam to adam.\n",
    "hotdogModel.fit(training_dataset, epochs=10, validation_data=valid_dataset)"
   ]
  },
  {
   "cell_type": "code",
   "execution_count": 95,
   "metadata": {},
   "outputs": [
    {
     "name": "stdout",
     "output_type": "stream",
     "text": [
      "100/100 [==============================] - 1s 9ms/step - loss: 0.8950 - accuracy: 0.8800\n"
     ]
    },
    {
     "data": {
      "text/plain": [
       "[0.8950088620185852, 0.8799999952316284]"
      ]
     },
     "execution_count": 95,
     "metadata": {},
     "output_type": "execute_result"
    }
   ],
   "source": [
    "hotdogModel.evaluate(testing_dataset)"
   ]
  },
  {
   "cell_type": "code",
   "execution_count": 96,
   "metadata": {},
   "outputs": [],
   "source": [
    "hotdogModel.save(\"HotdogModel.h5\")"
   ]
  },
  {
   "cell_type": "code",
   "execution_count": 107,
   "metadata": {},
   "outputs": [
    {
     "name": "stderr",
     "output_type": "stream",
     "text": [
      "Running TensorFlow Graph Passes: 100%|██████████| 5/5 [00:00<00:00, 16.82 passes/s]\n",
      "Converting Frontend ==> MIL Ops: 100%|██████████| 238/238 [00:00<00:00, 1375.45 ops/s]\n",
      "Running MIL optimization passes: 100%|██████████| 18/18 [00:00<00:00, 107.07 passes/s]\n",
      "Translating MIL ==> MLModel Ops: 100%|██████████| 409/409 [00:00<00:00, 1260.31 ops/s]\n"
     ]
    }
   ],
   "source": [
    "from tensorflow.keras.models import load_model\n",
    "from tensorflow.keras.utils import CustomObjectScope\n",
    "import tensorflow.keras\n",
    "with CustomObjectScope({'relu6': tensorflow.keras.layers.ReLU(6),'DepthwiseConv2D': tensorflow.keras.layers.DepthwiseConv2D}):\n",
    "            model = load_model('HotdogModel.h5')\n",
    "import coremltools\n",
    "coreml_model = coremltools.convert(model)\n",
    "#coreml_model_float32 = coremltools.convert(model, ...)\n",
    "\n",
    "coreml_model.save('NotHotDog.mlmodel')\n",
    "# Successfully converted the tf model into a coreml model"
   ]
  },
  {
   "cell_type": "code",
   "execution_count": null,
   "metadata": {},
   "outputs": [],
   "source": []
  }
 ],
 "metadata": {
  "kernelspec": {
   "display_name": "Python 3",
   "language": "python",
   "name": "python3"
  },
  "language_info": {
   "codemirror_mode": {
    "name": "ipython",
    "version": 3
   },
   "file_extension": ".py",
   "mimetype": "text/x-python",
   "name": "python",
   "nbconvert_exporter": "python",
   "pygments_lexer": "ipython3",
   "version": "3.8.10"
  }
 },
 "nbformat": 4,
 "nbformat_minor": 4
}
